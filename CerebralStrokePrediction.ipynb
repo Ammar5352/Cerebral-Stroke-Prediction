{
 "cells": [
  {
   "cell_type": "markdown",
   "id": "960be1f7",
   "metadata": {},
   "source": [
    "# Cerebral Stroke Prediction"
   ]
  },
  {
   "cell_type": "markdown",
   "id": "c6ce6b8a",
   "metadata": {},
   "source": [
    "## Importing Libraries and Dataset"
   ]
  },
  {
   "cell_type": "code",
   "execution_count": 1,
   "id": "4e37527d",
   "metadata": {},
   "outputs": [],
   "source": [
    "import pandas as pd\n",
    "import numpy as np\n",
    "import matplotlib.pyplot as plt\n",
    "import seaborn as sns\n",
    "import warnings\n",
    "warnings.filterwarnings(\"ignore\")"
   ]
  },
  {
   "cell_type": "code",
   "execution_count": 2,
   "id": "d641f237",
   "metadata": {},
   "outputs": [],
   "source": [
    "#cstroke is a shortname of cerebral stroke\n",
    "cstroke = pd.read_csv(\"dataset.csv\")"
   ]
  },
  {
   "cell_type": "code",
   "execution_count": 3,
   "id": "149ad7ef",
   "metadata": {
    "scrolled": true
   },
   "outputs": [
    {
     "data": {
      "text/html": [
       "<div>\n",
       "<style scoped>\n",
       "    .dataframe tbody tr th:only-of-type {\n",
       "        vertical-align: middle;\n",
       "    }\n",
       "\n",
       "    .dataframe tbody tr th {\n",
       "        vertical-align: top;\n",
       "    }\n",
       "\n",
       "    .dataframe thead th {\n",
       "        text-align: right;\n",
       "    }\n",
       "</style>\n",
       "<table border=\"1\" class=\"dataframe\">\n",
       "  <thead>\n",
       "    <tr style=\"text-align: right;\">\n",
       "      <th></th>\n",
       "      <th>id</th>\n",
       "      <th>gender</th>\n",
       "      <th>age</th>\n",
       "      <th>hypertension</th>\n",
       "      <th>heart_disease</th>\n",
       "      <th>ever_married</th>\n",
       "      <th>work_type</th>\n",
       "      <th>Residence_type</th>\n",
       "      <th>avg_glucose_level</th>\n",
       "      <th>bmi</th>\n",
       "      <th>smoking_status</th>\n",
       "      <th>stroke</th>\n",
       "    </tr>\n",
       "  </thead>\n",
       "  <tbody>\n",
       "    <tr>\n",
       "      <th>0</th>\n",
       "      <td>30669</td>\n",
       "      <td>Male</td>\n",
       "      <td>3.0</td>\n",
       "      <td>0</td>\n",
       "      <td>0</td>\n",
       "      <td>No</td>\n",
       "      <td>children</td>\n",
       "      <td>Rural</td>\n",
       "      <td>95.12</td>\n",
       "      <td>18.0</td>\n",
       "      <td>NaN</td>\n",
       "      <td>0</td>\n",
       "    </tr>\n",
       "    <tr>\n",
       "      <th>1</th>\n",
       "      <td>30468</td>\n",
       "      <td>Male</td>\n",
       "      <td>58.0</td>\n",
       "      <td>1</td>\n",
       "      <td>0</td>\n",
       "      <td>Yes</td>\n",
       "      <td>Private</td>\n",
       "      <td>Urban</td>\n",
       "      <td>87.96</td>\n",
       "      <td>39.2</td>\n",
       "      <td>never smoked</td>\n",
       "      <td>0</td>\n",
       "    </tr>\n",
       "    <tr>\n",
       "      <th>2</th>\n",
       "      <td>16523</td>\n",
       "      <td>Female</td>\n",
       "      <td>8.0</td>\n",
       "      <td>0</td>\n",
       "      <td>0</td>\n",
       "      <td>No</td>\n",
       "      <td>Private</td>\n",
       "      <td>Urban</td>\n",
       "      <td>110.89</td>\n",
       "      <td>17.6</td>\n",
       "      <td>NaN</td>\n",
       "      <td>0</td>\n",
       "    </tr>\n",
       "    <tr>\n",
       "      <th>3</th>\n",
       "      <td>56543</td>\n",
       "      <td>Female</td>\n",
       "      <td>70.0</td>\n",
       "      <td>0</td>\n",
       "      <td>0</td>\n",
       "      <td>Yes</td>\n",
       "      <td>Private</td>\n",
       "      <td>Rural</td>\n",
       "      <td>69.04</td>\n",
       "      <td>35.9</td>\n",
       "      <td>formerly smoked</td>\n",
       "      <td>0</td>\n",
       "    </tr>\n",
       "    <tr>\n",
       "      <th>4</th>\n",
       "      <td>46136</td>\n",
       "      <td>Male</td>\n",
       "      <td>14.0</td>\n",
       "      <td>0</td>\n",
       "      <td>0</td>\n",
       "      <td>No</td>\n",
       "      <td>Never_worked</td>\n",
       "      <td>Rural</td>\n",
       "      <td>161.28</td>\n",
       "      <td>19.1</td>\n",
       "      <td>NaN</td>\n",
       "      <td>0</td>\n",
       "    </tr>\n",
       "  </tbody>\n",
       "</table>\n",
       "</div>"
      ],
      "text/plain": [
       "      id  gender   age  hypertension  heart_disease ever_married  \\\n",
       "0  30669    Male   3.0             0              0           No   \n",
       "1  30468    Male  58.0             1              0          Yes   \n",
       "2  16523  Female   8.0             0              0           No   \n",
       "3  56543  Female  70.0             0              0          Yes   \n",
       "4  46136    Male  14.0             0              0           No   \n",
       "\n",
       "      work_type Residence_type  avg_glucose_level   bmi   smoking_status  \\\n",
       "0      children          Rural              95.12  18.0              NaN   \n",
       "1       Private          Urban              87.96  39.2     never smoked   \n",
       "2       Private          Urban             110.89  17.6              NaN   \n",
       "3       Private          Rural              69.04  35.9  formerly smoked   \n",
       "4  Never_worked          Rural             161.28  19.1              NaN   \n",
       "\n",
       "   stroke  \n",
       "0       0  \n",
       "1       0  \n",
       "2       0  \n",
       "3       0  \n",
       "4       0  "
      ]
     },
     "execution_count": 3,
     "metadata": {},
     "output_type": "execute_result"
    }
   ],
   "source": [
    "# This is will display top 5 rows from the dataset\n",
    "cstroke.head()"
   ]
  },
  {
   "cell_type": "markdown",
   "id": "b52527b6",
   "metadata": {},
   "source": [
    "## Data Cleaning and Data Preprocessing"
   ]
  },
  {
   "cell_type": "code",
   "execution_count": 4,
   "id": "1317c5fa",
   "metadata": {},
   "outputs": [
    {
     "name": "stdout",
     "output_type": "stream",
     "text": [
      "<class 'pandas.core.frame.DataFrame'>\n",
      "RangeIndex: 43400 entries, 0 to 43399\n",
      "Data columns (total 12 columns):\n",
      " #   Column             Non-Null Count  Dtype  \n",
      "---  ------             --------------  -----  \n",
      " 0   id                 43400 non-null  int64  \n",
      " 1   gender             43400 non-null  object \n",
      " 2   age                43400 non-null  float64\n",
      " 3   hypertension       43400 non-null  int64  \n",
      " 4   heart_disease      43400 non-null  int64  \n",
      " 5   ever_married       43400 non-null  object \n",
      " 6   work_type          43400 non-null  object \n",
      " 7   Residence_type     43400 non-null  object \n",
      " 8   avg_glucose_level  43400 non-null  float64\n",
      " 9   bmi                41938 non-null  float64\n",
      " 10  smoking_status     30108 non-null  object \n",
      " 11  stroke             43400 non-null  int64  \n",
      "dtypes: float64(3), int64(4), object(5)\n",
      "memory usage: 4.0+ MB\n"
     ]
    }
   ],
   "source": [
    "#To see information of columns\n",
    "cstroke.info()"
   ]
  },
  {
   "cell_type": "code",
   "execution_count": 5,
   "id": "bacb5e07",
   "metadata": {
    "scrolled": true
   },
   "outputs": [
    {
     "data": {
      "text/plain": [
       "never smoked       16053\n",
       "formerly smoked     7493\n",
       "smokes              6562\n",
       "Name: smoking_status, dtype: int64"
      ]
     },
     "execution_count": 5,
     "metadata": {},
     "output_type": "execute_result"
    }
   ],
   "source": [
    "# Value counts will give unnique values of each attribute\n",
    "cstroke['smoking_status'].value_counts()"
   ]
  },
  {
   "cell_type": "code",
   "execution_count": 6,
   "id": "436785fd",
   "metadata": {},
   "outputs": [],
   "source": [
    "# Here we are mapping smoking status features with 012 which can get numerical columns used for prediction\n",
    "cstroke['smoking_status_num'] = cstroke['smoking_status'].map({'never smoked':0,'formerly smoked':1,'smokes':2})\n",
    "cstroke['smoking_status_num'] = cstroke['smoking_status_num'].fillna(cstroke['smoking_status_num'].mean()).round()"
   ]
  },
  {
   "cell_type": "code",
   "execution_count": 7,
   "id": "9fb75b1e",
   "metadata": {},
   "outputs": [
    {
     "data": {
      "text/plain": [
       "id                        0\n",
       "gender                    0\n",
       "age                       0\n",
       "hypertension              0\n",
       "heart_disease             0\n",
       "ever_married              0\n",
       "work_type                 0\n",
       "Residence_type            0\n",
       "avg_glucose_level         0\n",
       "bmi                    1462\n",
       "smoking_status        13292\n",
       "stroke                    0\n",
       "smoking_status_num        0\n",
       "dtype: int64"
      ]
     },
     "execution_count": 7,
     "metadata": {},
     "output_type": "execute_result"
    }
   ],
   "source": [
    "#Checking for null values\n",
    "cstroke.isnull().sum()"
   ]
  },
  {
   "cell_type": "code",
   "execution_count": 8,
   "id": "90757c70",
   "metadata": {},
   "outputs": [],
   "source": [
    "# We are dropping columns which are not much as valuable for prediciton and analysis\n",
    "cstroke.drop(columns=['id','gender','ever_married','work_type','Residence_type','smoking_status'],inplace=True)"
   ]
  },
  {
   "cell_type": "code",
   "execution_count": 9,
   "id": "91f97b3d",
   "metadata": {},
   "outputs": [
    {
     "data": {
      "text/html": [
       "<div>\n",
       "<style scoped>\n",
       "    .dataframe tbody tr th:only-of-type {\n",
       "        vertical-align: middle;\n",
       "    }\n",
       "\n",
       "    .dataframe tbody tr th {\n",
       "        vertical-align: top;\n",
       "    }\n",
       "\n",
       "    .dataframe thead th {\n",
       "        text-align: right;\n",
       "    }\n",
       "</style>\n",
       "<table border=\"1\" class=\"dataframe\">\n",
       "  <thead>\n",
       "    <tr style=\"text-align: right;\">\n",
       "      <th></th>\n",
       "      <th>age</th>\n",
       "      <th>hypertension</th>\n",
       "      <th>heart_disease</th>\n",
       "      <th>avg_glucose_level</th>\n",
       "      <th>bmi</th>\n",
       "      <th>stroke</th>\n",
       "      <th>smoking_status_num</th>\n",
       "    </tr>\n",
       "  </thead>\n",
       "  <tbody>\n",
       "    <tr>\n",
       "      <th>0</th>\n",
       "      <td>3.0</td>\n",
       "      <td>0</td>\n",
       "      <td>0</td>\n",
       "      <td>95.12</td>\n",
       "      <td>18.0</td>\n",
       "      <td>0</td>\n",
       "      <td>1.0</td>\n",
       "    </tr>\n",
       "    <tr>\n",
       "      <th>1</th>\n",
       "      <td>58.0</td>\n",
       "      <td>1</td>\n",
       "      <td>0</td>\n",
       "      <td>87.96</td>\n",
       "      <td>39.2</td>\n",
       "      <td>0</td>\n",
       "      <td>0.0</td>\n",
       "    </tr>\n",
       "    <tr>\n",
       "      <th>2</th>\n",
       "      <td>8.0</td>\n",
       "      <td>0</td>\n",
       "      <td>0</td>\n",
       "      <td>110.89</td>\n",
       "      <td>17.6</td>\n",
       "      <td>0</td>\n",
       "      <td>1.0</td>\n",
       "    </tr>\n",
       "    <tr>\n",
       "      <th>3</th>\n",
       "      <td>70.0</td>\n",
       "      <td>0</td>\n",
       "      <td>0</td>\n",
       "      <td>69.04</td>\n",
       "      <td>35.9</td>\n",
       "      <td>0</td>\n",
       "      <td>1.0</td>\n",
       "    </tr>\n",
       "    <tr>\n",
       "      <th>4</th>\n",
       "      <td>14.0</td>\n",
       "      <td>0</td>\n",
       "      <td>0</td>\n",
       "      <td>161.28</td>\n",
       "      <td>19.1</td>\n",
       "      <td>0</td>\n",
       "      <td>1.0</td>\n",
       "    </tr>\n",
       "  </tbody>\n",
       "</table>\n",
       "</div>"
      ],
      "text/plain": [
       "    age  hypertension  heart_disease  avg_glucose_level   bmi  stroke  \\\n",
       "0   3.0             0              0              95.12  18.0       0   \n",
       "1  58.0             1              0              87.96  39.2       0   \n",
       "2   8.0             0              0             110.89  17.6       0   \n",
       "3  70.0             0              0              69.04  35.9       0   \n",
       "4  14.0             0              0             161.28  19.1       0   \n",
       "\n",
       "   smoking_status_num  \n",
       "0                 1.0  \n",
       "1                 0.0  \n",
       "2                 1.0  \n",
       "3                 1.0  \n",
       "4                 1.0  "
      ]
     },
     "execution_count": 9,
     "metadata": {},
     "output_type": "execute_result"
    }
   ],
   "source": [
    "cstroke.head()"
   ]
  },
  {
   "cell_type": "code",
   "execution_count": 10,
   "id": "1b9771cd",
   "metadata": {},
   "outputs": [
    {
     "data": {
      "text/plain": [
       "age                      0\n",
       "hypertension             0\n",
       "heart_disease            0\n",
       "avg_glucose_level        0\n",
       "bmi                   1462\n",
       "stroke                   0\n",
       "smoking_status_num       0\n",
       "dtype: int64"
      ]
     },
     "execution_count": 10,
     "metadata": {},
     "output_type": "execute_result"
    }
   ],
   "source": [
    "cstroke.isnull().sum()"
   ]
  },
  {
   "cell_type": "code",
   "execution_count": 11,
   "id": "f068a6be",
   "metadata": {},
   "outputs": [],
   "source": [
    "# Adjusting nan values by mean\n",
    "cstroke['bmi'] = cstroke['bmi'].fillna(value = cstroke['bmi'].mean())"
   ]
  },
  {
   "cell_type": "code",
   "execution_count": 12,
   "id": "29020ac5",
   "metadata": {},
   "outputs": [
    {
     "data": {
      "text/plain": [
       "age                   0\n",
       "hypertension          0\n",
       "heart_disease         0\n",
       "avg_glucose_level     0\n",
       "bmi                   0\n",
       "stroke                0\n",
       "smoking_status_num    0\n",
       "dtype: int64"
      ]
     },
     "execution_count": 12,
     "metadata": {},
     "output_type": "execute_result"
    }
   ],
   "source": [
    "#Checking for null\n",
    "cstroke.isnull().sum()"
   ]
  },
  {
   "cell_type": "code",
   "execution_count": 13,
   "id": "6b249f87",
   "metadata": {},
   "outputs": [
    {
     "name": "stdout",
     "output_type": "stream",
     "text": [
      "0    42617\n",
      "1      783\n",
      "Name: stroke, dtype: int64\n"
     ]
    },
    {
     "data": {
      "text/plain": [
       "<AxesSubplot:xlabel='stroke', ylabel='count'>"
      ]
     },
     "execution_count": 13,
     "metadata": {},
     "output_type": "execute_result"
    },
    {
     "data": {
      "image/png": "[encoded data removed]",
      "text/plain": [
       "<Figure size 432x288 with 1 Axes>"
      ]
     },
     "metadata": {
      "needs_background": "light"
     },
     "output_type": "display_data"
    }
   ],
   "source": [
    "#Displaying countplot to see stroke counts\n",
    "print(cstroke['stroke'].value_counts())\n",
    "sns.countplot(cstroke['stroke'])"
   ]
  },
  {
   "cell_type": "code",
   "execution_count": 14,
   "id": "f430f537",
   "metadata": {},
   "outputs": [
    {
     "data": {
      "text/html": [
       "<div>\n",
       "<style scoped>\n",
       "    .dataframe tbody tr th:only-of-type {\n",
       "        vertical-align: middle;\n",
       "    }\n",
       "\n",
       "    .dataframe tbody tr th {\n",
       "        vertical-align: top;\n",
       "    }\n",
       "\n",
       "    .dataframe thead th {\n",
       "        text-align: right;\n",
       "    }\n",
       "</style>\n",
       "<table border=\"1\" class=\"dataframe\">\n",
       "  <thead>\n",
       "    <tr style=\"text-align: right;\">\n",
       "      <th></th>\n",
       "      <th>age</th>\n",
       "      <th>hypertension</th>\n",
       "      <th>heart_disease</th>\n",
       "      <th>avg_glucose_level</th>\n",
       "      <th>bmi</th>\n",
       "      <th>stroke</th>\n",
       "      <th>smoking_status_num</th>\n",
       "    </tr>\n",
       "  </thead>\n",
       "  <tbody>\n",
       "    <tr>\n",
       "      <th>count</th>\n",
       "      <td>43400.000000</td>\n",
       "      <td>43400.000000</td>\n",
       "      <td>43400.000000</td>\n",
       "      <td>43400.000000</td>\n",
       "      <td>43400.000000</td>\n",
       "      <td>43400.000000</td>\n",
       "      <td>43400.000000</td>\n",
       "    </tr>\n",
       "    <tr>\n",
       "      <th>mean</th>\n",
       "      <td>42.217894</td>\n",
       "      <td>0.093571</td>\n",
       "      <td>0.047512</td>\n",
       "      <td>104.482750</td>\n",
       "      <td>28.605038</td>\n",
       "      <td>0.018041</td>\n",
       "      <td>0.781313</td>\n",
       "    </tr>\n",
       "    <tr>\n",
       "      <th>std</th>\n",
       "      <td>22.519649</td>\n",
       "      <td>0.291235</td>\n",
       "      <td>0.212733</td>\n",
       "      <td>43.111751</td>\n",
       "      <td>7.638023</td>\n",
       "      <td>0.133103</td>\n",
       "      <td>0.687946</td>\n",
       "    </tr>\n",
       "    <tr>\n",
       "      <th>min</th>\n",
       "      <td>0.080000</td>\n",
       "      <td>0.000000</td>\n",
       "      <td>0.000000</td>\n",
       "      <td>55.000000</td>\n",
       "      <td>10.100000</td>\n",
       "      <td>0.000000</td>\n",
       "      <td>0.000000</td>\n",
       "    </tr>\n",
       "    <tr>\n",
       "      <th>25%</th>\n",
       "      <td>24.000000</td>\n",
       "      <td>0.000000</td>\n",
       "      <td>0.000000</td>\n",
       "      <td>77.540000</td>\n",
       "      <td>23.400000</td>\n",
       "      <td>0.000000</td>\n",
       "      <td>0.000000</td>\n",
       "    </tr>\n",
       "    <tr>\n",
       "      <th>50%</th>\n",
       "      <td>44.000000</td>\n",
       "      <td>0.000000</td>\n",
       "      <td>0.000000</td>\n",
       "      <td>91.580000</td>\n",
       "      <td>28.100000</td>\n",
       "      <td>0.000000</td>\n",
       "      <td>1.000000</td>\n",
       "    </tr>\n",
       "    <tr>\n",
       "      <th>75%</th>\n",
       "      <td>60.000000</td>\n",
       "      <td>0.000000</td>\n",
       "      <td>0.000000</td>\n",
       "      <td>112.070000</td>\n",
       "      <td>32.600000</td>\n",
       "      <td>0.000000</td>\n",
       "      <td>1.000000</td>\n",
       "    </tr>\n",
       "    <tr>\n",
       "      <th>max</th>\n",
       "      <td>82.000000</td>\n",
       "      <td>1.000000</td>\n",
       "      <td>1.000000</td>\n",
       "      <td>291.050000</td>\n",
       "      <td>97.600000</td>\n",
       "      <td>1.000000</td>\n",
       "      <td>2.000000</td>\n",
       "    </tr>\n",
       "  </tbody>\n",
       "</table>\n",
       "</div>"
      ],
      "text/plain": [
       "                age  hypertension  heart_disease  avg_glucose_level  \\\n",
       "count  43400.000000  43400.000000   43400.000000       43400.000000   \n",
       "mean      42.217894      0.093571       0.047512         104.482750   \n",
       "std       22.519649      0.291235       0.212733          43.111751   \n",
       "min        0.080000      0.000000       0.000000          55.000000   \n",
       "25%       24.000000      0.000000       0.000000          77.540000   \n",
       "50%       44.000000      0.000000       0.000000          91.580000   \n",
       "75%       60.000000      0.000000       0.000000         112.070000   \n",
       "max       82.000000      1.000000       1.000000         291.050000   \n",
       "\n",
       "                bmi        stroke  smoking_status_num  \n",
       "count  43400.000000  43400.000000        43400.000000  \n",
       "mean      28.605038      0.018041            0.781313  \n",
       "std        7.638023      0.133103            0.687946  \n",
       "min       10.100000      0.000000            0.000000  \n",
       "25%       23.400000      0.000000            0.000000  \n",
       "50%       28.100000      0.000000            1.000000  \n",
       "75%       32.600000      0.000000            1.000000  \n",
       "max       97.600000      1.000000            2.000000  "
      ]
     },
     "execution_count": 14,
     "metadata": {},
     "output_type": "execute_result"
    }
   ],
   "source": [
    "# Statistical summary\n",
    "cstroke.describe()"
   ]
  },
  {
   "cell_type": "markdown",
   "id": "ed3d85e2",
   "metadata": {},
   "source": [
    "### Checking for PDF's"
   ]
  },
  {
   "cell_type": "code",
   "execution_count": 15,
   "id": "5f941b0e",
   "metadata": {},
   "outputs": [
    {
     "data": {
      "text/plain": [
       "<AxesSubplot:ylabel='Density'>"
      ]
     },
     "execution_count": 15,
     "metadata": {},
     "output_type": "execute_result"
    },
    {
     "data": {
      "image/png": "[encoded data removed]",
      "text/plain": [
       "<Figure size 432x288 with 1 Axes>"
      ]
     },
     "metadata": {
      "needs_background": "light"
     },
     "output_type": "display_data"
    }
   ],
   "source": [
    "sns.distplot(x=cstroke['age'])"
   ]
  },
  {
   "cell_type": "code",
   "execution_count": 16,
   "id": "1105a1b7",
   "metadata": {},
   "outputs": [
    {
     "data": {
      "text/plain": [
       "<AxesSubplot:ylabel='Density'>"
      ]
     },
     "execution_count": 16,
     "metadata": {},
     "output_type": "execute_result"
    },
    {
     "data": {
      "image/png": "[encoded data removed]",
      "text/plain": [
       "<Figure size 432x288 with 1 Axes>"
      ]
     },
     "metadata": {
      "needs_background": "light"
     },
     "output_type": "display_data"
    }
   ],
   "source": [
    "sns.distplot(x=cstroke['hypertension'])"
   ]
  },
  {
   "cell_type": "code",
   "execution_count": 17,
   "id": "a6e1d2ed",
   "metadata": {},
   "outputs": [
    {
     "data": {
      "text/plain": [
       "<AxesSubplot:ylabel='Density'>"
      ]
     },
     "execution_count": 17,
     "metadata": {},
     "output_type": "execute_result"
    },
    {
     "data": {
      "image/png": "[encoded data removed]",
      "text/plain": [
       "<Figure size 432x288 with 1 Axes>"
      ]
     },
     "metadata": {
      "needs_background": "light"
     },
     "output_type": "display_data"
    }
   ],
   "source": [
    "sns.distplot(x=cstroke['heart_disease'])"
   ]
  },
  {
   "cell_type": "code",
   "execution_count": 18,
   "id": "4a1437ab",
   "metadata": {},
   "outputs": [
    {
     "data": {
      "text/plain": [
       "<AxesSubplot:ylabel='Density'>"
      ]
     },
     "execution_count": 18,
     "metadata": {},
     "output_type": "execute_result"
    },
    {
     "data": {
      "image/png": "[encoded data removed]",
      "text/plain": [
       "<Figure size 432x288 with 1 Axes>"
      ]
     },
     "metadata": {
      "needs_background": "light"
     },
     "output_type": "display_data"
    }
   ],
   "source": [
    "sns.distplot(x=cstroke['avg_glucose_level'])"
   ]
  },
  {
   "cell_type": "code",
   "execution_count": 19,
   "id": "46790a5b",
   "metadata": {},
   "outputs": [
    {
     "data": {
      "text/plain": [
       "<AxesSubplot:ylabel='Density'>"
      ]
     },
     "execution_count": 19,
     "metadata": {},
     "output_type": "execute_result"
    },
    {
     "data": {
      "image/png": "[encoded data removed]",
      "text/plain": [
       "<Figure size 432x288 with 1 Axes>"
      ]
     },
     "metadata": {
      "needs_background": "light"
     },
     "output_type": "display_data"
    }
   ],
   "source": [
    "sns.distplot(x=cstroke['bmi'])"
   ]
  },
  {
   "cell_type": "code",
   "execution_count": 20,
   "id": "1681981f",
   "metadata": {},
   "outputs": [
    {
     "data": {
      "text/plain": [
       "<AxesSubplot:ylabel='Density'>"
      ]
     },
     "execution_count": 20,
     "metadata": {},
     "output_type": "execute_result"
    },
    {
     "data": {
      "image/png": "[encoded data removed]",
      "text/plain": [
       "<Figure size 432x288 with 1 Axes>"
      ]
     },
     "metadata": {
      "needs_background": "light"
     },
     "output_type": "display_data"
    }
   ],
   "source": [
    "sns.distplot(x=cstroke['smoking_status_num'])"
   ]
  },
  {
   "cell_type": "code",
   "execution_count": 21,
   "id": "541047be",
   "metadata": {},
   "outputs": [],
   "source": [
    "# As per all Pdf's there are not biased columns so all the columns are probably distributed"
   ]
  },
  {
   "cell_type": "markdown",
   "id": "ae855595",
   "metadata": {},
   "source": [
    "### Checking for Multicollinearity"
   ]
  },
  {
   "cell_type": "code",
   "execution_count": 22,
   "id": "10355a3b",
   "metadata": {},
   "outputs": [],
   "source": [
    "#Here we are using variance inflation factor to check multicollinearity\n",
    "from statsmodels.stats.outliers_influence import variance_inflation_factor\n",
    "variables = cstroke[['age','hypertension','heart_disease','avg_glucose_level','bmi','smoking_status_num']]\n",
    "vif = pd.DataFrame()\n",
    "vif['VIF'] =[variance_inflation_factor(variables.values,i) for i in range(variables.shape[1])] \n",
    "vif['features'] = variables.columns"
   ]
  },
  {
   "cell_type": "code",
   "execution_count": 23,
   "id": "ea80d134",
   "metadata": {},
   "outputs": [
    {
     "data": {
      "text/html": [
       "<div>\n",
       "<style scoped>\n",
       "    .dataframe tbody tr th:only-of-type {\n",
       "        vertical-align: middle;\n",
       "    }\n",
       "\n",
       "    .dataframe tbody tr th {\n",
       "        vertical-align: top;\n",
       "    }\n",
       "\n",
       "    .dataframe thead th {\n",
       "        text-align: right;\n",
       "    }\n",
       "</style>\n",
       "<table border=\"1\" class=\"dataframe\">\n",
       "  <thead>\n",
       "    <tr style=\"text-align: right;\">\n",
       "      <th></th>\n",
       "      <th>VIF</th>\n",
       "      <th>features</th>\n",
       "    </tr>\n",
       "  </thead>\n",
       "  <tbody>\n",
       "    <tr>\n",
       "      <th>0</th>\n",
       "      <td>5.810447</td>\n",
       "      <td>age</td>\n",
       "    </tr>\n",
       "    <tr>\n",
       "      <th>1</th>\n",
       "      <td>1.192399</td>\n",
       "      <td>hypertension</td>\n",
       "    </tr>\n",
       "    <tr>\n",
       "      <th>2</th>\n",
       "      <td>1.131901</td>\n",
       "      <td>heart_disease</td>\n",
       "    </tr>\n",
       "    <tr>\n",
       "      <th>3</th>\n",
       "      <td>6.404059</td>\n",
       "      <td>avg_glucose_level</td>\n",
       "    </tr>\n",
       "    <tr>\n",
       "      <th>4</th>\n",
       "      <td>8.997642</td>\n",
       "      <td>bmi</td>\n",
       "    </tr>\n",
       "    <tr>\n",
       "      <th>5</th>\n",
       "      <td>2.110277</td>\n",
       "      <td>smoking_status_num</td>\n",
       "    </tr>\n",
       "  </tbody>\n",
       "</table>\n",
       "</div>"
      ],
      "text/plain": [
       "        VIF            features\n",
       "0  5.810447                 age\n",
       "1  1.192399        hypertension\n",
       "2  1.131901       heart_disease\n",
       "3  6.404059   avg_glucose_level\n",
       "4  8.997642                 bmi\n",
       "5  2.110277  smoking_status_num"
      ]
     },
     "execution_count": 23,
     "metadata": {},
     "output_type": "execute_result"
    }
   ],
   "source": [
    "vif"
   ]
  },
  {
   "cell_type": "code",
   "execution_count": 24,
   "id": "1303b34d",
   "metadata": {},
   "outputs": [
    {
     "data": {
      "text/plain": [
       "stroke                1.000000\n",
       "age                   0.156049\n",
       "heart_disease         0.113763\n",
       "avg_glucose_level     0.078917\n",
       "hypertension          0.075332\n",
       "bmi                   0.018407\n",
       "smoking_status_num    0.005091\n",
       "Name: stroke, dtype: float64"
      ]
     },
     "execution_count": 24,
     "metadata": {},
     "output_type": "execute_result"
    }
   ],
   "source": [
    "#this is a correlation matrix\n",
    "corr_matrix = cstroke.corr()\n",
    "corr_matrix['stroke'].sort_values(ascending=False)"
   ]
  },
  {
   "cell_type": "code",
   "execution_count": 25,
   "id": "b9810294",
   "metadata": {},
   "outputs": [],
   "source": [
    "#Declaring input and target variable for further analysis\n",
    "inputx = cstroke.drop(columns=['stroke'])\n",
    "target = cstroke['stroke']"
   ]
  },
  {
   "cell_type": "markdown",
   "id": "41915db3",
   "metadata": {},
   "source": [
    "### Statistical summary"
   ]
  },
  {
   "cell_type": "code",
   "execution_count": 26,
   "id": "8f4912a5",
   "metadata": {},
   "outputs": [
    {
     "name": "stdout",
     "output_type": "stream",
     "text": [
      "Optimization terminated successfully.\n",
      "         Current function value: 0.074301\n",
      "         Iterations 10\n"
     ]
    },
    {
     "data": {
      "text/html": [
       "<table class=\"simpletable\">\n",
       "<caption>Logit Regression Results</caption>\n",
       "<tr>\n",
       "  <th>Dep. Variable:</th>        <td>stroke</td>      <th>  No. Observations:  </th>   <td> 43400</td>  \n",
       "</tr>\n",
       "<tr>\n",
       "  <th>Model:</th>                 <td>Logit</td>      <th>  Df Residuals:      </th>   <td> 43393</td>  \n",
       "</tr>\n",
       "<tr>\n",
       "  <th>Method:</th>                 <td>MLE</td>       <th>  Df Model:          </th>   <td>     6</td>  \n",
       "</tr>\n",
       "<tr>\n",
       "  <th>Date:</th>            <td>Tue, 24 Oct 2023</td> <th>  Pseudo R-squ.:     </th>   <td>0.1773</td>  \n",
       "</tr>\n",
       "<tr>\n",
       "  <th>Time:</th>                <td>11:20:33</td>     <th>  Log-Likelihood:    </th>  <td> -3224.6</td> \n",
       "</tr>\n",
       "<tr>\n",
       "  <th>converged:</th>             <td>True</td>       <th>  LL-Null:           </th>  <td> -3919.7</td> \n",
       "</tr>\n",
       "<tr>\n",
       "  <th>Covariance Type:</th>     <td>nonrobust</td>    <th>  LLR p-value:       </th> <td>3.350e-297</td>\n",
       "</tr>\n",
       "</table>\n",
       "<table class=\"simpletable\">\n",
       "<tr>\n",
       "           <td></td>             <th>coef</th>     <th>std err</th>      <th>z</th>      <th>P>|z|</th>  <th>[0.025</th>    <th>0.975]</th>  \n",
       "</tr>\n",
       "<tr>\n",
       "  <th>const</th>              <td>   -8.4027</td> <td>    0.283</td> <td>  -29.642</td> <td> 0.000</td> <td>   -8.958</td> <td>   -7.847</td>\n",
       "</tr>\n",
       "<tr>\n",
       "  <th>age</th>                <td>    0.0701</td> <td>    0.003</td> <td>   24.256</td> <td> 0.000</td> <td>    0.064</td> <td>    0.076</td>\n",
       "</tr>\n",
       "<tr>\n",
       "  <th>hypertension</th>       <td>    0.3168</td> <td>    0.087</td> <td>    3.625</td> <td> 0.000</td> <td>    0.146</td> <td>    0.488</td>\n",
       "</tr>\n",
       "<tr>\n",
       "  <th>heart_disease</th>      <td>    0.6276</td> <td>    0.094</td> <td>    6.704</td> <td> 0.000</td> <td>    0.444</td> <td>    0.811</td>\n",
       "</tr>\n",
       "<tr>\n",
       "  <th>avg_glucose_level</th>  <td>    0.0038</td> <td>    0.001</td> <td>    5.772</td> <td> 0.000</td> <td>    0.002</td> <td>    0.005</td>\n",
       "</tr>\n",
       "<tr>\n",
       "  <th>bmi</th>                <td>   -0.0089</td> <td>    0.006</td> <td>   -1.460</td> <td> 0.144</td> <td>   -0.021</td> <td>    0.003</td>\n",
       "</tr>\n",
       "<tr>\n",
       "  <th>smoking_status_num</th> <td>    0.1105</td> <td>    0.054</td> <td>    2.061</td> <td> 0.039</td> <td>    0.005</td> <td>    0.216</td>\n",
       "</tr>\n",
       "</table>"
      ],
      "text/plain": [
       "<class 'statsmodels.iolib.summary.Summary'>\n",
       "\"\"\"\n",
       "                           Logit Regression Results                           \n",
       "==============================================================================\n",
       "Dep. Variable:                 stroke   No. Observations:                43400\n",
       "Model:                          Logit   Df Residuals:                    43393\n",
       "Method:                           MLE   Df Model:                            6\n",
       "Date:                Tue, 24 Oct 2023   Pseudo R-squ.:                  0.1773\n",
       "Time:                        11:20:33   Log-Likelihood:                -3224.6\n",
       "converged:                       True   LL-Null:                       -3919.7\n",
       "Covariance Type:            nonrobust   LLR p-value:                3.350e-297\n",
       "======================================================================================\n",
       "                         coef    std err          z      P>|z|      [0.025      0.975]\n",
       "--------------------------------------------------------------------------------------\n",
       "const                 -8.4027      0.283    -29.642      0.000      -8.958      -7.847\n",
       "age                    0.0701      0.003     24.256      0.000       0.064       0.076\n",
       "hypertension           0.3168      0.087      3.625      0.000       0.146       0.488\n",
       "heart_disease          0.6276      0.094      6.704      0.000       0.444       0.811\n",
       "avg_glucose_level      0.0038      0.001      5.772      0.000       0.002       0.005\n",
       "bmi                   -0.0089      0.006     -1.460      0.144      -0.021       0.003\n",
       "smoking_status_num     0.1105      0.054      2.061      0.039       0.005       0.216\n",
       "======================================================================================\n",
       "\"\"\""
      ]
     },
     "execution_count": 26,
     "metadata": {},
     "output_type": "execute_result"
    }
   ],
   "source": [
    "# Here we are using Logistic Regression\n",
    "import statsmodels.api as sm\n",
    "inputxx = sm.add_constant(inputx)\n",
    "log = sm.Logit(target,inputxx)\n",
    "results=log.fit()\n",
    "results.summary()"
   ]
  },
  {
   "cell_type": "markdown",
   "id": "6e136135",
   "metadata": {},
   "source": [
    "## Model Building"
   ]
  },
  {
   "cell_type": "code",
   "execution_count": 27,
   "id": "1e7be8b1",
   "metadata": {},
   "outputs": [],
   "source": [
    "# Here we are importing standard scaler which is very useful as it removes the mean and scales each feature to unit \n",
    "#variance.\n",
    "from sklearn.preprocessing import StandardScaler\n",
    "scaler = StandardScaler()"
   ]
  },
  {
   "cell_type": "code",
   "execution_count": 28,
   "id": "fa216dcb",
   "metadata": {},
   "outputs": [],
   "source": [
    "#Fitting inputs to standard scaler\n",
    "inputs_scaled = scaler.fit(inputx)"
   ]
  },
  {
   "cell_type": "code",
   "execution_count": 29,
   "id": "19b16238",
   "metadata": {},
   "outputs": [],
   "source": [
    "inputs_scaled=inputs_scaled.transform(inputx)"
   ]
  },
  {
   "cell_type": "code",
   "execution_count": 30,
   "id": "3ec9b134",
   "metadata": {},
   "outputs": [],
   "source": [
    "#Here we are importing train test split to split our dataset into training set and testing set\n",
    "from sklearn.model_selection import train_test_split"
   ]
  },
  {
   "cell_type": "code",
   "execution_count": 31,
   "id": "0c1433b9",
   "metadata": {},
   "outputs": [],
   "source": [
    "X_train,x_test,Y_train,y_test = train_test_split(inputs_scaled,target,test_size=0.2,random_state=53)"
   ]
  },
  {
   "cell_type": "code",
   "execution_count": 32,
   "id": "5a9300a3",
   "metadata": {},
   "outputs": [],
   "source": [
    "# Importing Logistic regression for prediction\n",
    "from sklearn.linear_model import LogisticRegression"
   ]
  },
  {
   "cell_type": "code",
   "execution_count": 33,
   "id": "3bd46ea5",
   "metadata": {},
   "outputs": [
    {
     "data": {
      "text/plain": [
       "LogisticRegression()"
      ]
     },
     "execution_count": 33,
     "metadata": {},
     "output_type": "execute_result"
    }
   ],
   "source": [
    "model = LogisticRegression()\n",
    "model.fit(X_train,Y_train)"
   ]
  },
  {
   "cell_type": "code",
   "execution_count": 34,
   "id": "9a56eaca",
   "metadata": {},
   "outputs": [],
   "source": [
    "y_pred=model.predict(x_test)"
   ]
  },
  {
   "cell_type": "code",
   "execution_count": 35,
   "id": "a3744a40",
   "metadata": {},
   "outputs": [
    {
     "name": "stdout",
     "output_type": "stream",
     "text": [
      "                 Predicted Negative  Predicted Positive\n",
      "Actual Negative                8531                   0\n",
      "Actual Positive                 149                   0\n"
     ]
    }
   ],
   "source": [
    "#Importing accuracy_score function and confusion matrix from sklearn.metrics package\n",
    "from sklearn.metrics import accuracy_score,confusion_matrix\n",
    "conf_mat = confusion_matrix(y_test, y_pred)\n",
    "\n",
    "# Creating a DataFrame from the confusion matrix\n",
    "confusion_df = pd.DataFrame(conf_mat, columns=['Predicted Negative', 'Predicted Positive'], \n",
    "                            index=['Actual Negative', 'Actual Positive'])\n",
    "\n",
    "print(confusion_df)"
   ]
  },
  {
   "cell_type": "code",
   "execution_count": 36,
   "id": "c5efee42",
   "metadata": {},
   "outputs": [],
   "source": [
    "#Here we are calculating acuracy_score, sensitivity, specificity\n",
    "accuracy = accuracy_score(y_test, y_pred)\n",
    "accuracy_score = (accuracy*100).round(2)\n",
    "true_negatives = conf_mat[0, 0]\n",
    "false_positives = conf_mat[0, 1]\n",
    "false_negatives = conf_mat[1, 0]\n",
    "true_positives = conf_mat[1, 1]\n",
    "\n",
    "sensitivity = true_positives / (true_positives + false_negatives)\n",
    "specificity = true_negatives / (true_negatives + false_positives)"
   ]
  },
  {
   "cell_type": "code",
   "execution_count": 37,
   "id": "3f941a62",
   "metadata": {},
   "outputs": [
    {
     "name": "stdout",
     "output_type": "stream",
     "text": [
      "Accuracy:98.28\n",
      "Sensitivity : 0.0\n",
      "Specificity: 1.0\n"
     ]
    }
   ],
   "source": [
    "print(f\"Accuracy:{accuracy_score}\")\n",
    "print(f\"Sensitivity : {sensitivity}\")\n",
    "print(f\"Specificity: {specificity}\")"
   ]
  },
  {
   "cell_type": "markdown",
   "id": "19b544b5",
   "metadata": {},
   "source": [
    "## Questions\n",
    "### 1.What are the main factors that contribute to stroke occurrence in the dataset?\n",
    "### 2.Can we effectively identify individuals at risk of experiencing cerebral strokes based on their attributes?\n",
    "### 3.How well does the model perform in detecting stroke occurrence while considering the class imbalance?\n",
    "### 4.How can healthcare providers use the model's predictions to improve patient care and reduce the risk of strokes?\n"
   ]
  },
  {
   "cell_type": "markdown",
   "id": "0ab4ccc8",
   "metadata": {},
   "source": [
    "## Answers\n",
    "### 1. Age, Glucose level, BMI are major factors that contribute to stroke occurence in the dataset. Also hypertension and heart disease are correlated but not too much.\n",
    "### 2. Yes we can effectively identify strokes based on their attributes as model giving 98% accuracy.\n",
    "### 3. Model perform very well in detecting stroke with 98% accuracy.\n",
    "### 4. As model is our highly effective they can immediately encounter patient having strokes and can start treatments. This will reduce more risks."
   ]
  },
  {
   "cell_type": "code",
   "execution_count": null,
   "id": "c455cc6a",
   "metadata": {},
   "outputs": [],
   "source": []
  }
 ],
 "metadata": {
  "kernelspec": {
   "display_name": "Python 3 (ipykernel)",
   "language": "python",
   "name": "python3"
  },
  "language_info": {
   "codemirror_mode": {
    "name": "ipython",
    "version": 3
   },
   "file_extension": ".py",
   "mimetype": "text/x-python",
   "name": "python",
   "nbconvert_exporter": "python",
   "pygments_lexer": "ipython3",
   "version": "3.9.12"
  }
 },
 "nbformat": 4,
 "nbformat_minor": 5
}
